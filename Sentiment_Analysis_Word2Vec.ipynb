{
 "cells": [
  {
   "cell_type": "code",
   "execution_count": 1,
   "metadata": {
    "colab": {
     "base_uri": "https://localhost:8080/",
     "height": 80
    },
    "colab_type": "code",
    "executionInfo": {
     "elapsed": 3651,
     "status": "ok",
     "timestamp": 1582647916793,
     "user": {
      "displayName": "Tech Entertaining",
      "photoUrl": "https://lh3.googleusercontent.com/a-/AAuE7mBD3cpdezmTLK4GmA7Smu2MBHuFgGfZNeLA9aaeUg=s64",
      "userId": "14192496592089419195"
     },
     "user_tz": -330
    },
    "id": "F9DsCuLIKYFj",
    "outputId": "e860d895-9d72-4c9a-ecf1-24f1f97a1e2e"
   },
   "outputs": [
    {
     "name": "stderr",
     "output_type": "stream",
     "text": [
      "Using TensorFlow backend.\n"
     ]
    },
    {
     "data": {
      "text/html": [
       "<p style=\"color: red;\">\n",
       "The default version of TensorFlow in Colab will soon switch to TensorFlow 2.x.<br>\n",
       "We recommend you <a href=\"https://www.tensorflow.org/guide/migrate\" target=\"_blank\">upgrade</a> now \n",
       "or ensure your notebook will continue to use TensorFlow 1.x via the <code>%tensorflow_version 1.x</code> magic:\n",
       "<a href=\"https://colab.research.google.com/notebooks/tensorflow_version.ipynb\" target=\"_blank\">more info</a>.</p>\n"
      ],
      "text/plain": [
       "<IPython.core.display.HTML object>"
      ]
     },
     "metadata": {
      "tags": []
     },
     "output_type": "display_data"
    }
   ],
   "source": [
    "from keras.layers import Embedding\n",
    "from keras.models import Sequential\n",
    "from keras.datasets import imdb\n",
    "import keras as K\n",
    "import numpy as np"
   ]
  },
  {
   "cell_type": "code",
   "execution_count": 2,
   "metadata": {
    "colab": {
     "base_uri": "https://localhost:8080/",
     "height": 51
    },
    "colab_type": "code",
    "executionInfo": {
     "elapsed": 8825,
     "status": "ok",
     "timestamp": 1582647943131,
     "user": {
      "displayName": "Tech Entertaining",
      "photoUrl": "https://lh3.googleusercontent.com/a-/AAuE7mBD3cpdezmTLK4GmA7Smu2MBHuFgGfZNeLA9aaeUg=s64",
      "userId": "14192496592089419195"
     },
     "user_tz": -330
    },
    "id": "jVlvSV3WKmoB",
    "outputId": "68029206-ce56-4e5b-a0f9-35f61b391452"
   },
   "outputs": [
    {
     "name": "stdout",
     "output_type": "stream",
     "text": [
      "Downloading data from https://s3.amazonaws.com/text-datasets/imdb.npz\n",
      "17465344/17464789 [==============================] - 0s 0us/step\n"
     ]
    }
   ],
   "source": [
    "max_words = 20000\n",
    "\n",
    "(train_x, train_y), (test_x, test_y) = imdb.load_data(num_words=max_words)\n",
    "\n",
    "max_review_length = 80\n",
    "train_x = K.preprocessing.sequence.pad_sequences(train_x, truncating='pre', padding='pre', maxlen=max_review_length)\n",
    "test_x = K.preprocessing.sequence.pad_sequences(test_x, truncating='pre', padding='pre', maxlen=max_review_length)"
   ]
  },
  {
   "cell_type": "code",
   "execution_count": 3,
   "metadata": {
    "colab": {
     "base_uri": "https://localhost:8080/",
     "height": 768
    },
    "colab_type": "code",
    "executionInfo": {
     "elapsed": 1038,
     "status": "ok",
     "timestamp": 1582648041820,
     "user": {
      "displayName": "Tech Entertaining",
      "photoUrl": "https://lh3.googleusercontent.com/a-/AAuE7mBD3cpdezmTLK4GmA7Smu2MBHuFgGfZNeLA9aaeUg=s64",
      "userId": "14192496592089419195"
     },
     "user_tz": -330
    },
    "id": "OSUnGlRnKvy6",
    "outputId": "d3195c1b-9a4a-4f79-8f5d-9767ae1e9267"
   },
   "outputs": [
    {
     "name": "stdout",
     "output_type": "stream",
     "text": [
      "WARNING:tensorflow:From /usr/local/lib/python3.6/dist-packages/keras/backend/tensorflow_backend.py:66: The name tf.get_default_graph is deprecated. Please use tf.compat.v1.get_default_graph instead.\n",
      "\n",
      "WARNING:tensorflow:From /usr/local/lib/python3.6/dist-packages/keras/backend/tensorflow_backend.py:541: The name tf.placeholder is deprecated. Please use tf.compat.v1.placeholder instead.\n",
      "\n",
      "WARNING:tensorflow:From /usr/local/lib/python3.6/dist-packages/keras/backend/tensorflow_backend.py:4432: The name tf.random_uniform is deprecated. Please use tf.random.uniform instead.\n",
      "\n",
      "[[ 62 886 660 319 585 650 481 375  46 876]\n",
      " [793 337 857 771 538 705  90 847 209 241]] (2, 10)\n",
      "WARNING:tensorflow:From /usr/local/lib/python3.6/dist-packages/keras/optimizers.py:793: The name tf.train.Optimizer is deprecated. Please use tf.compat.v1.train.Optimizer instead.\n",
      "\n",
      "WARNING:tensorflow:From /usr/local/lib/python3.6/dist-packages/keras/backend/tensorflow_backend.py:3005: The name tf.Session is deprecated. Please use tf.compat.v1.Session instead.\n",
      "\n",
      "WARNING:tensorflow:From /usr/local/lib/python3.6/dist-packages/keras/backend/tensorflow_backend.py:190: The name tf.get_default_session is deprecated. Please use tf.compat.v1.get_default_session instead.\n",
      "\n",
      "WARNING:tensorflow:From /usr/local/lib/python3.6/dist-packages/keras/backend/tensorflow_backend.py:197: The name tf.ConfigProto is deprecated. Please use tf.compat.v1.ConfigProto instead.\n",
      "\n",
      "WARNING:tensorflow:From /usr/local/lib/python3.6/dist-packages/keras/backend/tensorflow_backend.py:207: The name tf.global_variables is deprecated. Please use tf.compat.v1.global_variables instead.\n",
      "\n",
      "WARNING:tensorflow:From /usr/local/lib/python3.6/dist-packages/keras/backend/tensorflow_backend.py:216: The name tf.is_variable_initialized is deprecated. Please use tf.compat.v1.is_variable_initialized instead.\n",
      "\n",
      "WARNING:tensorflow:From /usr/local/lib/python3.6/dist-packages/keras/backend/tensorflow_backend.py:223: The name tf.variables_initializer is deprecated. Please use tf.compat.v1.variables_initializer instead.\n",
      "\n",
      "[[[-0.02363584 -0.02943691 -0.00385613 -0.01867272 -0.02832236]\n",
      "  [ 0.04148836 -0.01826614 -0.01274391  0.0406757   0.04616488]\n",
      "  [-0.00474282  0.007764   -0.04226415  0.04823562  0.03632728]\n",
      "  [-0.01493539 -0.00461181  0.02401936 -0.04322114 -0.03856437]\n",
      "  [-0.01179419 -0.01160015 -0.02624943  0.01984414  0.00887159]\n",
      "  [-0.00820819  0.02170609  0.01477138  0.03550799 -0.01161573]\n",
      "  [-0.04407319 -0.01545515  0.04438522  0.01576872  0.03426424]\n",
      "  [-0.00925282  0.02790571  0.02461853 -0.04815363  0.02892805]\n",
      "  [ 0.04723699 -0.00221547 -0.04900026 -0.03048369  0.03287113]\n",
      "  [-0.02819899 -0.02079326  0.04777214 -0.04578748  0.03965982]]\n",
      "\n",
      " [[-0.03360357  0.01268836  0.03561432  0.00673747 -0.00445052]\n",
      "  [ 0.01338046  0.03013924 -0.03132094  0.04875192  0.0378061 ]\n",
      "  [-0.00733487  0.02159574  0.01009803  0.01153467  0.04113375]\n",
      "  [ 0.01752121 -0.03030791  0.00863419 -0.02715805 -0.00812559]\n",
      "  [-0.04303775 -0.00140653  0.04521466 -0.04359416  0.0204358 ]\n",
      "  [ 0.02866579  0.01848844 -0.049728   -0.00235902  0.04232878]\n",
      "  [-0.03884108  0.02756575 -0.04544861 -0.0483229   0.00628962]\n",
      "  [-0.02739443 -0.02080381  0.02766572 -0.02734737 -0.0094095 ]\n",
      "  [ 0.00665965 -0.04807811 -0.02108126  0.00821825 -0.01003498]\n",
      "  [-0.02548726  0.02823219 -0.03485974  0.02601768  0.02046224]]] (2, 10, 5)\n"
     ]
    }
   ],
   "source": [
    "model = Sequential()\n",
    "embedding_length = 5\n",
    "max_words = 1000\n",
    "max_sentence_length = 10\n",
    "model.add(Embedding(max_words, embedding_length, input_length=max_sentence_length))\n",
    "# the model will take as input an integer matrix of size (batch, input_length).\n",
    "# the largest integer (i.e. word index) in the input should be\n",
    "# no larger than max_words-1 (vocabulary size).\n",
    "# now model.output_shape == (None, max_review_length, embedding_length), where None is the batch dimension.\n",
    "\n",
    "input_array = input_array = np.random.randint(max_words, size=(2, max_sentence_length)) #train_x[0]\n",
    "print(input_array, np.shape(input_array))\n",
    "\n",
    "model.compile('rmsprop', 'mse')\n",
    "output_array = model.predict(input_array)\n",
    "#assert output_array.shape == (32, 10, 64)\n",
    "print(output_array, np.shape(output_array))"
   ]
  },
  {
   "cell_type": "code",
   "execution_count": 4,
   "metadata": {
    "colab": {
     "base_uri": "https://localhost:8080/",
     "height": 54
    },
    "colab_type": "code",
    "executionInfo": {
     "elapsed": 1211,
     "status": "ok",
     "timestamp": 1582648072939,
     "user": {
      "displayName": "Tech Entertaining",
      "photoUrl": "https://lh3.googleusercontent.com/a-/AAuE7mBD3cpdezmTLK4GmA7Smu2MBHuFgGfZNeLA9aaeUg=s64",
      "userId": "14192496592089419195"
     },
     "user_tz": -330
    },
    "id": "NU7eza_pLJyU",
    "outputId": "f87f7b43-dc7b-49a8-eac8-5fbab1836d1f"
   },
   "outputs": [
    {
     "name": "stdout",
     "output_type": "stream",
     "text": [
      "[[7520, 9808, 9151, 8755], [9591, 9808, 1682, 8755], [7520, 9808, 1682, 8865], [3326, 9591, 9808, 6502, 8865], [903, 4209, 4441, 7520, 9808, 3311, 8056], [9450, 7376, 2248, 9450, 7527], [8669, 2248, 4906]]\n"
     ]
    }
   ],
   "source": [
    "#one hot representation\n",
    "from keras.preprocessing.text import one_hot\n",
    "\n",
    "#define documents\n",
    "docs = ['glass of orange juice',\n",
    "        'bottle of mango juice',\n",
    "        'glass of mango shake',\n",
    "        'drink bottle of banana shake',\n",
    "        'I want a glass of cold water',\n",
    "        'The king and the queen',\n",
    "        'man and woman']\n",
    "\n",
    "vocab_size = 10000\n",
    "\n",
    "encoded_docs = [one_hot(d, vocab_size) for d in docs]\n",
    "print(encoded_docs)"
   ]
  },
  {
   "cell_type": "code",
   "execution_count": 5,
   "metadata": {
    "colab": {
     "base_uri": "https://localhost:8080/",
     "height": 136
    },
    "colab_type": "code",
    "executionInfo": {
     "elapsed": 1434,
     "status": "ok",
     "timestamp": 1582648110756,
     "user": {
      "displayName": "Tech Entertaining",
      "photoUrl": "https://lh3.googleusercontent.com/a-/AAuE7mBD3cpdezmTLK4GmA7Smu2MBHuFgGfZNeLA9aaeUg=s64",
      "userId": "14192496592089419195"
     },
     "user_tz": -330
    },
    "id": "NZKx7T2DLRWu",
    "outputId": "9e1bff6d-ed19-48fc-93ed-6601e74ca247"
   },
   "outputs": [
    {
     "name": "stdout",
     "output_type": "stream",
     "text": [
      "[[7520 9808 9151 8755    0    0    0    0    0    0]\n",
      " [9591 9808 1682 8755    0    0    0    0    0    0]\n",
      " [7520 9808 1682 8865    0    0    0    0    0    0]\n",
      " [3326 9591 9808 6502 8865    0    0    0    0    0]\n",
      " [ 903 4209 4441 7520 9808 3311 8056    0    0    0]\n",
      " [9450 7376 2248 9450 7527    0    0    0    0    0]\n",
      " [8669 2248 4906    0    0    0    0    0    0    0]]\n"
     ]
    }
   ],
   "source": [
    "#Word Embedding\n",
    "\n",
    "from keras.preprocessing.sequence import pad_sequences\n",
    "from keras.models import Sequential\n",
    "from keras.layers import Embedding, LSTM\n",
    "\n",
    "import numpy as np\n",
    "\n",
    "embedding_length = 5\n",
    "max_doc_len = 10\n",
    "\n",
    "encoded_docs = pad_sequences(encoded_docs, truncating='post', padding='post', maxlen=max_doc_len)\n",
    "\n",
    "print(encoded_docs)"
   ]
  },
  {
   "cell_type": "code",
   "execution_count": 6,
   "metadata": {
    "colab": {
     "base_uri": "https://localhost:8080/",
     "height": 1000
    },
    "colab_type": "code",
    "executionInfo": {
     "elapsed": 1143,
     "status": "ok",
     "timestamp": 1582648139175,
     "user": {
      "displayName": "Tech Entertaining",
      "photoUrl": "https://lh3.googleusercontent.com/a-/AAuE7mBD3cpdezmTLK4GmA7Smu2MBHuFgGfZNeLA9aaeUg=s64",
      "userId": "14192496592089419195"
     },
     "user_tz": -330
    },
    "id": "-jjnlnA6Lah0",
    "outputId": "f6aabf58-eb61-4b34-980e-0fcb26530e6d"
   },
   "outputs": [
    {
     "name": "stdout",
     "output_type": "stream",
     "text": [
      "Model: \"sequential_2\"\n",
      "_________________________________________________________________\n",
      "Layer (type)                 Output Shape              Param #   \n",
      "=================================================================\n",
      "embedding_2 (Embedding)      (None, 10, 5)             50000     \n",
      "_________________________________________________________________\n",
      "lstm_1 (LSTM)                (None, 64)                17920     \n",
      "=================================================================\n",
      "Total params: 67,920\n",
      "Trainable params: 67,920\n",
      "Non-trainable params: 0\n",
      "_________________________________________________________________\n",
      "(7, 64)\n",
      "[[-5.56378253e-03  5.60367433e-03 -5.16801467e-03  4.19320306e-03\n",
      "  -3.59169557e-03  4.13992954e-03 -8.22615996e-03  9.79942270e-04\n",
      "   6.38592523e-04 -5.68409101e-04 -4.02601995e-03  1.24315266e-04\n",
      "  -6.68045424e-04  2.15857592e-03  2.78725405e-03 -2.08628061e-03\n",
      "   8.75103381e-03 -6.65520609e-04 -1.90308597e-03  1.26623060e-03\n",
      "  -2.13643925e-05  3.88333411e-03  4.30517318e-03  6.38288492e-03\n",
      "  -4.03438276e-03  1.41671323e-03 -7.21365621e-04  3.49342963e-03\n",
      "  -1.67642382e-03 -2.63169291e-03  5.00983140e-03  3.06722615e-03\n",
      "   5.06109791e-03  5.55060990e-03  2.11947085e-03  3.80406599e-03\n",
      "  -5.96332969e-03  1.65943609e-04 -1.01471553e-02  9.97864758e-04\n",
      "   5.44362096e-03 -5.58550563e-03  1.83452480e-03  1.47812441e-03\n",
      "   1.01328199e-03  1.11209415e-03 -2.81356135e-03  4.94131469e-04\n",
      "  -5.94619103e-03  3.70937306e-03 -4.26651165e-03  3.26894084e-03\n",
      "  -7.75980856e-03  2.00678757e-03  4.45379206e-04 -2.63414788e-03\n",
      "   1.61097400e-04  1.84905634e-03  3.61890043e-03 -6.45481050e-03\n",
      "   3.59852961e-03  6.22503133e-03 -2.58680852e-03  4.22918201e-05]\n",
      " [-6.04918133e-03  6.01242017e-03 -4.75234538e-03  3.76436277e-03\n",
      "  -4.18015290e-03  3.83944041e-03 -8.27442855e-03  1.45996141e-03\n",
      "   7.63106509e-04 -4.21736768e-04 -3.42042185e-03 -2.55375562e-05\n",
      "  -8.65902810e-04  2.41771922e-03  3.02634365e-03 -2.03033630e-03\n",
      "   8.96719284e-03 -9.65258107e-04 -1.44678936e-03  4.10677807e-04\n",
      "   3.02839675e-04  3.93413100e-03  4.23939107e-03  6.27184473e-03\n",
      "  -3.57517926e-03  2.03665975e-03 -9.98002943e-04  4.31867829e-03\n",
      "  -1.59339490e-03 -2.31455825e-03  5.35783637e-03  3.15201026e-03\n",
      "   5.02990140e-03  4.68564732e-03  2.01297575e-03  2.94912863e-03\n",
      "  -6.35716692e-03  1.79666222e-05 -1.05344737e-02  1.85847646e-04\n",
      "   4.49358160e-03 -4.96782968e-03  1.29438494e-03  1.01100153e-03\n",
      "   1.19448418e-03  1.49904669e-03 -3.82261979e-03  8.18104018e-04\n",
      "  -5.86300157e-03  3.77696659e-03 -3.99209838e-03  4.24162764e-03\n",
      "  -7.31041236e-03  1.44092645e-03  1.00667391e-03 -2.91782548e-03\n",
      "  -3.98751668e-04  1.12942792e-03  3.57640930e-03 -6.53986493e-03\n",
      "   3.17286537e-03  6.45082723e-03 -2.92221410e-03 -4.17690957e-04]\n",
      " [-5.67508116e-03  5.48556959e-03 -5.31097781e-03  3.72099737e-03\n",
      "  -3.80091975e-03  3.66174709e-03 -8.45808815e-03  1.04514626e-03\n",
      "   5.28467412e-04 -5.83277957e-04 -3.39278253e-03  6.39169593e-04\n",
      "  -1.21491298e-03  2.35330965e-03  3.20184836e-03 -1.81748427e-03\n",
      "   9.50711500e-03 -6.55187236e-04 -1.19784661e-03  4.83389129e-04\n",
      "   8.55934413e-05  3.61034041e-03  4.51573450e-03  6.29041716e-03\n",
      "  -4.07627318e-03  1.76693895e-03 -1.42140978e-03  4.10330482e-03\n",
      "  -1.51309767e-03 -2.87783053e-03  5.84516302e-03  2.79243104e-03\n",
      "   4.79147164e-03  5.20202471e-03  1.72813819e-03  3.27201840e-03\n",
      "  -6.37973333e-03  2.20322690e-04 -1.06581096e-02  7.10684923e-04\n",
      "   4.80629411e-03 -5.45424549e-03  1.47059839e-03  1.26527436e-03\n",
      "   9.04984074e-04  1.18091493e-03 -3.46042914e-03  2.19813330e-04\n",
      "  -5.91442501e-03  3.43966158e-03 -4.15130565e-03  4.17523365e-03\n",
      "  -7.84890074e-03  1.44082727e-03  7.77992827e-04 -2.65864935e-03\n",
      "   9.92871064e-05  1.30162539e-03  3.30930506e-03 -6.79055555e-03\n",
      "   3.02140578e-03  6.30249456e-03 -3.06051644e-03 -7.99521338e-04]\n",
      " [-4.80539352e-03  5.20016113e-03 -4.66199964e-03  3.63980653e-03\n",
      "  -3.25377472e-03  3.82670714e-03 -8.21785536e-03  1.23567856e-03\n",
      "   9.01456224e-04 -6.68438792e-04 -3.13576101e-03  7.58004608e-04\n",
      "  -1.57398917e-03  2.36987043e-03  2.65486143e-03 -1.64300587e-03\n",
      "   9.22266487e-03 -6.61167840e-04 -1.48786127e-03  9.15001321e-04\n",
      "   1.90293737e-04  3.49225220e-03  4.36889706e-03  6.10144110e-03\n",
      "  -3.74462293e-03  1.61729916e-03 -1.83451443e-03  4.04633442e-03\n",
      "  -1.46287680e-03 -2.85912980e-03  5.24485530e-03  2.30532303e-03\n",
      "   4.07193229e-03  5.12681017e-03  1.57450116e-03  2.99961446e-03\n",
      "  -5.95146185e-03  1.08901426e-04 -1.01486435e-02  1.13143818e-03\n",
      "   4.43078857e-03 -5.26184589e-03  1.84446422e-03  1.31197041e-03\n",
      "   5.72450750e-04  7.51809159e-04 -3.18493485e-03 -2.96082464e-04\n",
      "  -5.42257028e-03  3.79650271e-03 -3.88701190e-03  4.29195957e-03\n",
      "  -8.00419040e-03  5.05485223e-04  9.73135466e-04 -2.53423885e-03\n",
      "   2.97059596e-04  1.37649849e-03  3.12123587e-03 -6.38558669e-03\n",
      "   3.05428472e-03  5.93999727e-03 -3.57706635e-03 -7.23435311e-04]\n",
      " [-4.15276736e-03  5.29998541e-03 -2.44996464e-03  3.45140835e-03\n",
      "  -3.08063976e-03  4.19627223e-03 -6.32301578e-03  1.25621434e-03\n",
      "   1.70458620e-03 -1.46046467e-03 -2.64894916e-03 -6.59733836e-04\n",
      "   1.04305649e-03  2.53695343e-03  1.25436101e-03 -7.86126708e-04\n",
      "   4.55807988e-03 -3.83444742e-04 -2.70553119e-03  2.31005321e-03\n",
      "   3.39132966e-04  3.42262327e-03  2.69149034e-03  5.38016064e-03\n",
      "  -2.52607628e-03  1.07293832e-03 -7.36226211e-04  3.26701021e-03\n",
      "  -1.53865246e-03 -8.08685785e-04  1.19868631e-03  3.43950023e-03\n",
      "   3.38154915e-03  2.43348582e-03  2.90935347e-03  3.18860682e-03\n",
      "  -2.76158308e-03 -3.06360656e-04 -4.96348413e-03  6.42590865e-04\n",
      "   4.22817003e-03 -2.79404479e-03  1.44842814e-03  1.03249168e-03\n",
      "   2.60175928e-03  8.87018628e-04 -1.85681938e-03  1.91366870e-03\n",
      "  -3.57082672e-03  2.71957647e-03 -3.98572115e-03  2.25822674e-03\n",
      "  -5.71514014e-03  2.17585103e-03  6.67035580e-04 -2.54451740e-03\n",
      "   3.53636045e-04  4.99755435e-04  3.33718536e-03 -2.93171662e-03\n",
      "   2.83998880e-03  4.19544755e-03 -1.35662092e-03  8.08901154e-04]\n",
      " [-4.21302021e-03  4.28612344e-03 -5.21076424e-03  3.53546697e-03\n",
      "  -3.04651726e-03  3.81190586e-03 -8.30941834e-03 -8.59373395e-05\n",
      "   4.85683471e-04 -9.75306670e-04 -3.98791488e-03  1.26298692e-03\n",
      "  -1.25283899e-03  2.46489816e-03  2.73119705e-03 -1.64471392e-03\n",
      "   8.34325794e-03  4.97773408e-06 -1.93377200e-03  1.54727476e-03\n",
      "  -9.34745258e-05  3.21847270e-03  4.26415168e-03  5.79694472e-03\n",
      "  -4.37392620e-03  4.93862957e-04 -1.28832657e-03  3.21420701e-03\n",
      "  -1.42993336e-03 -3.46758938e-03  4.58576716e-03  2.31411518e-03\n",
      "   3.77760478e-03  5.07853599e-03  1.60682574e-03  3.51321325e-03\n",
      "  -5.60087292e-03  1.32621918e-03 -9.20917187e-03  1.40283129e-03\n",
      "   4.89707803e-03 -5.71413431e-03  2.03839736e-03  1.29783992e-03\n",
      "   6.26993016e-04  7.33366353e-04 -2.18248973e-03 -5.85579197e-04\n",
      "  -5.58141619e-03  2.93791364e-03 -4.01046779e-03  3.01488140e-03\n",
      "  -8.18717666e-03  1.10560749e-03  2.85855804e-05 -2.13930523e-03\n",
      "   9.19941696e-04  1.44509459e-03  2.40951288e-03 -6.02301583e-03\n",
      "   3.62826441e-03  5.18816756e-03 -1.94397219e-03 -1.76555215e-04]\n",
      " [-5.41417720e-03  5.09906653e-03 -5.45718661e-03  3.85379838e-03\n",
      "  -3.50006111e-03  3.82420630e-03 -8.59904103e-03  6.94770657e-04\n",
      "   3.84537154e-04 -5.37784887e-04 -3.94564215e-03  7.62566400e-04\n",
      "  -1.40634610e-03  2.30750884e-03  3.12412228e-03 -1.98872411e-03\n",
      "   9.63241141e-03 -4.94227628e-04 -1.41478179e-03  7.25726073e-04\n",
      "  -1.69781284e-04  3.42201535e-03  4.60708980e-03  6.27557188e-03\n",
      "  -4.26483294e-03  1.33836351e-03 -1.29271869e-03  3.75417713e-03\n",
      "  -1.57634378e-03 -3.08852014e-03  5.87503379e-03  2.58765440e-03\n",
      "   4.76012984e-03  5.54520683e-03  1.61486748e-03  3.64665361e-03\n",
      "  -6.29760977e-03  4.14935872e-04 -1.06273405e-02  1.11497892e-03\n",
      "   5.19758835e-03 -5.89287467e-03  1.79730915e-03  1.54554937e-03\n",
      "   7.04482081e-04  1.00106571e-03 -3.03645781e-03 -1.73776760e-04\n",
      "  -5.96316252e-03  3.30789341e-03 -4.11875173e-03  3.77265597e-03\n",
      "  -8.16003978e-03  1.54568953e-03  5.28855715e-04 -2.38939421e-03\n",
      "   2.75102211e-04  1.66820770e-03  3.23392381e-03 -6.81669544e-03\n",
      "   3.27193341e-03  6.15406176e-03 -2.94014462e-03 -6.95457100e-04]]\n"
     ]
    }
   ],
   "source": [
    "model = Sequential()\n",
    "\n",
    "model.add(Embedding(vocab_size, embedding_length, input_length=max_doc_len))\n",
    "model.add(LSTM(units=64))\n",
    "model.compile('rmsprop', 'mse')\n",
    "model.summary()\n",
    "output = model.predict(encoded_docs)\n",
    "print(output.shape)\n",
    "print(output)"
   ]
  },
  {
   "cell_type": "code",
   "execution_count": 7,
   "metadata": {
    "colab": {
     "base_uri": "https://localhost:8080/",
     "height": 68
    },
    "colab_type": "code",
    "executionInfo": {
     "elapsed": 6400,
     "status": "ok",
     "timestamp": 1582648178129,
     "user": {
      "displayName": "Tech Entertaining",
      "photoUrl": "https://lh3.googleusercontent.com/a-/AAuE7mBD3cpdezmTLK4GmA7Smu2MBHuFgGfZNeLA9aaeUg=s64",
      "userId": "14192496592089419195"
     },
     "user_tz": -330
    },
    "id": "kGqALwzhLhiV",
    "outputId": "3c10bd8d-2391-475a-d6eb-d5911362d6ca"
   },
   "outputs": [
    {
     "name": "stdout",
     "output_type": "stream",
     "text": [
      "Loading data...\n",
      "25000 train sequences\n",
      "25000 test sequences\n"
     ]
    }
   ],
   "source": [
    "import keras\n",
    "from keras.preprocessing import sequence\n",
    "from keras.models import Sequential\n",
    "from keras.layers import Dense, Embedding\n",
    "from keras.layers import LSTM\n",
    "from keras.datasets import imdb\n",
    "\n",
    "max_words = 20000\n",
    "\n",
    "print('Loading data...')\n",
    "(x_train, y_train), (x_test, y_test) = imdb.load_data(num_words=max_words)\n",
    "print(len(x_train), 'train sequences')\n",
    "print(len(x_test), 'test sequences')"
   ]
  },
  {
   "cell_type": "code",
   "execution_count": 8,
   "metadata": {
    "colab": {
     "base_uri": "https://localhost:8080/",
     "height": 51
    },
    "colab_type": "code",
    "executionInfo": {
     "elapsed": 1688,
     "status": "ok",
     "timestamp": 1582648207798,
     "user": {
      "displayName": "Tech Entertaining",
      "photoUrl": "https://lh3.googleusercontent.com/a-/AAuE7mBD3cpdezmTLK4GmA7Smu2MBHuFgGfZNeLA9aaeUg=s64",
      "userId": "14192496592089419195"
     },
     "user_tz": -330
    },
    "id": "Hwhqp3TyLpxI",
    "outputId": "819805d1-accb-4f4c-e6d0-e9448f79a9f0"
   },
   "outputs": [
    {
     "name": "stdout",
     "output_type": "stream",
     "text": [
      "x_train shape: (25000, 80)\n",
      "x_test shape: (25000, 80)\n"
     ]
    }
   ],
   "source": [
    "# cut texts after this number of words (among top max_features most common words)\n",
    "max_review_length = 80\n",
    "\n",
    "x_train = sequence.pad_sequences(x_train, truncating='pre', padding='pre', maxlen=max_review_length)\n",
    "x_test = sequence.pad_sequences(x_test, truncating='pre', padding='pre', maxlen=max_review_length)\n",
    "\n",
    "print('x_train shape:', x_train.shape)\n",
    "print('x_test shape:', x_test.shape)"
   ]
  },
  {
   "cell_type": "code",
   "execution_count": 9,
   "metadata": {
    "colab": {
     "base_uri": "https://localhost:8080/",
     "height": 139
    },
    "colab_type": "code",
    "executionInfo": {
     "elapsed": 3343,
     "status": "ok",
     "timestamp": 1582648247113,
     "user": {
      "displayName": "Tech Entertaining",
      "photoUrl": "https://lh3.googleusercontent.com/a-/AAuE7mBD3cpdezmTLK4GmA7Smu2MBHuFgGfZNeLA9aaeUg=s64",
      "userId": "14192496592089419195"
     },
     "user_tz": -330
    },
    "id": "dvZY5ejiLyKU",
    "outputId": "f07c5545-7ffa-48a3-e876-ddfa4718c2ed"
   },
   "outputs": [
    {
     "name": "stdout",
     "output_type": "stream",
     "text": [
      "Build model...\n",
      "WARNING:tensorflow:From /usr/local/lib/python3.6/dist-packages/keras/backend/tensorflow_backend.py:3657: The name tf.log is deprecated. Please use tf.math.log instead.\n",
      "\n",
      "WARNING:tensorflow:From /usr/local/lib/python3.6/dist-packages/tensorflow_core/python/ops/nn_impl.py:183: where (from tensorflow.python.ops.array_ops) is deprecated and will be removed in a future version.\n",
      "Instructions for updating:\n",
      "Use tf.where in 2.0, which has the same broadcast rule as np.where\n"
     ]
    }
   ],
   "source": [
    "print('Build model...')\n",
    "embedding_length = 64\n",
    "model = Sequential()\n",
    "model.add(Embedding(input_dim=max_words, output_dim=embedding_length, input_length=max_review_length))\n",
    "model.add(LSTM(units=64, input_shape=(max_review_length, embedding_length), return_sequences=False, unroll=True))\n",
    "model.add(Dense(1, activation='sigmoid'))\n",
    "\n",
    "# try using different optimizers and different optimizer configs\n",
    "model.compile(loss='binary_crossentropy',\n",
    "              optimizer='adam',\n",
    "              metrics=['accuracy'])"
   ]
  },
  {
   "cell_type": "code",
   "execution_count": 10,
   "metadata": {
    "colab": {
     "base_uri": "https://localhost:8080/",
     "height": 660
    },
    "colab_type": "code",
    "executionInfo": {
     "elapsed": 1454,
     "status": "ok",
     "timestamp": 1582648352585,
     "user": {
      "displayName": "Tech Entertaining",
      "photoUrl": "https://lh3.googleusercontent.com/a-/AAuE7mBD3cpdezmTLK4GmA7Smu2MBHuFgGfZNeLA9aaeUg=s64",
      "userId": "14192496592089419195"
     },
     "user_tz": -330
    },
    "id": "MtO0V2JOL7W3",
    "outputId": "99ec0bff-3f00-4835-bda4-2ebd11b6e69f"
   },
   "outputs": [
    {
     "name": "stdout",
     "output_type": "stream",
     "text": [
      "Model: \"sequential_3\"\n",
      "_________________________________________________________________\n",
      "Layer (type)                 Output Shape              Param #   \n",
      "=================================================================\n",
      "embedding_3 (Embedding)      (None, 80, 64)            1280000   \n",
      "_________________________________________________________________\n",
      "lstm_2 (LSTM)                (None, 64)                33024     \n",
      "_________________________________________________________________\n",
      "dense_1 (Dense)              (None, 1)                 65        \n",
      "=================================================================\n",
      "Total params: 1,313,089\n",
      "Trainable params: 1,313,089\n",
      "Non-trainable params: 0\n",
      "_________________________________________________________________\n"
     ]
    },
    {
     "data": {
      "image/png": "[encoded data removed]",
      "text/plain": [
       "<IPython.core.display.Image object>"
      ]
     },
     "execution_count": 10,
     "metadata": {
      "tags": []
     },
     "output_type": "execute_result"
    }
   ],
   "source": [
    "#Visualize\n",
    "model.summary()\n",
    "\n",
    "from keras.utils import plot_model\n",
    "plot_model(model, show_shapes=True, to_file='sent_analysis_model.png')"
   ]
  },
  {
   "cell_type": "code",
   "execution_count": 11,
   "metadata": {
    "colab": {
     "base_uri": "https://localhost:8080/",
     "height": 496
    },
    "colab_type": "code",
    "executionInfo": {
     "elapsed": 652091,
     "status": "ok",
     "timestamp": 1582649018994,
     "user": {
      "displayName": "Tech Entertaining",
      "photoUrl": "https://lh3.googleusercontent.com/a-/AAuE7mBD3cpdezmTLK4GmA7Smu2MBHuFgGfZNeLA9aaeUg=s64",
      "userId": "14192496592089419195"
     },
     "user_tz": -330
    },
    "id": "aOdEoZfSMVkM",
    "outputId": "8cdd6cb8-e0c0-4fbf-f740-7a074d10a44c"
   },
   "outputs": [
    {
     "name": "stdout",
     "output_type": "stream",
     "text": [
      "Training...\n",
      "WARNING:tensorflow:From /usr/local/lib/python3.6/dist-packages/keras/backend/tensorflow_backend.py:1033: The name tf.assign_add is deprecated. Please use tf.compat.v1.assign_add instead.\n",
      "\n",
      "WARNING:tensorflow:From /usr/local/lib/python3.6/dist-packages/keras/backend/tensorflow_backend.py:1020: The name tf.assign is deprecated. Please use tf.compat.v1.assign instead.\n",
      "\n",
      "Train on 25000 samples, validate on 25000 samples\n",
      "Epoch 1/10\n",
      "25000/25000 [==============================] - 84s 3ms/step - loss: 0.4267 - acc: 0.7999 - val_loss: 0.3656 - val_acc: 0.8425\n",
      "Epoch 2/10\n",
      "25000/25000 [==============================] - 61s 2ms/step - loss: 0.2516 - acc: 0.8993 - val_loss: 0.3883 - val_acc: 0.8350\n",
      "Epoch 3/10\n",
      "25000/25000 [==============================] - 62s 2ms/step - loss: 0.1631 - acc: 0.9382 - val_loss: 0.4208 - val_acc: 0.8218\n",
      "Epoch 4/10\n",
      "25000/25000 [==============================] - 62s 2ms/step - loss: 0.1113 - acc: 0.9589 - val_loss: 0.5395 - val_acc: 0.8234\n",
      "Epoch 5/10\n",
      "25000/25000 [==============================] - 61s 2ms/step - loss: 0.0757 - acc: 0.9735 - val_loss: 0.7736 - val_acc: 0.8120\n",
      "Epoch 6/10\n",
      "25000/25000 [==============================] - 61s 2ms/step - loss: 0.0546 - acc: 0.9809 - val_loss: 0.7152 - val_acc: 0.8192\n",
      "Epoch 7/10\n",
      "25000/25000 [==============================] - 62s 2ms/step - loss: 0.0362 - acc: 0.9887 - val_loss: 0.7355 - val_acc: 0.8153\n",
      "Epoch 8/10\n",
      "25000/25000 [==============================] - 61s 2ms/step - loss: 0.0282 - acc: 0.9914 - val_loss: 0.8344 - val_acc: 0.8083\n",
      "Epoch 9/10\n",
      "25000/25000 [==============================] - 61s 2ms/step - loss: 0.0224 - acc: 0.9931 - val_loss: 0.9655 - val_acc: 0.8159\n",
      "Epoch 10/10\n",
      "25000/25000 [==============================] - 61s 2ms/step - loss: 0.0185 - acc: 0.9946 - val_loss: 0.8758 - val_acc: 0.8143\n"
     ]
    },
    {
     "data": {
      "text/plain": [
       "<keras.callbacks.History at 0x7f22521a7470>"
      ]
     },
     "execution_count": 11,
     "metadata": {
      "tags": []
     },
     "output_type": "execute_result"
    }
   ],
   "source": [
    "\n",
    "print('Training...')\n",
    "batch_size = 32\n",
    "\n",
    "model.fit(x_train, y_train,\n",
    "          batch_size = batch_size,\n",
    "          epochs=10,\n",
    "          validation_data = (x_test, y_test))"
   ]
  },
  {
   "cell_type": "code",
   "execution_count": 12,
   "metadata": {
    "colab": {
     "base_uri": "https://localhost:8080/",
     "height": 68
    },
    "colab_type": "code",
    "executionInfo": {
     "elapsed": 9451,
     "status": "ok",
     "timestamp": 1582649028465,
     "user": {
      "displayName": "Tech Entertaining",
      "photoUrl": "https://lh3.googleusercontent.com/a-/AAuE7mBD3cpdezmTLK4GmA7Smu2MBHuFgGfZNeLA9aaeUg=s64",
      "userId": "14192496592089419195"
     },
     "user_tz": -330
    },
    "id": "-Pu5S-rsMZae",
    "outputId": "7c0a56df-f24a-4586-8247-ddfa7e81ec80"
   },
   "outputs": [
    {
     "name": "stdout",
     "output_type": "stream",
     "text": [
      "25000/25000 [==============================] - 9s 348us/step\n",
      "Test score = 0.8758461359870434\n",
      "Test accuracy = 0.81432\n"
     ]
    }
   ],
   "source": [
    "score, acc = model.evaluate(x_test, y_test, batch_size=batch_size)\n",
    "print(f'Test score = {score}')\n",
    "print(f'Test accuracy = {acc}')"
   ]
  },
  {
   "cell_type": "code",
   "execution_count": 17,
   "metadata": {
    "colab": {
     "base_uri": "https://localhost:8080/",
     "height": 68
    },
    "colab_type": "code",
    "executionInfo": {
     "elapsed": 1424,
     "status": "ok",
     "timestamp": 1582649117331,
     "user": {
      "displayName": "Tech Entertaining",
      "photoUrl": "https://lh3.googleusercontent.com/a-/AAuE7mBD3cpdezmTLK4GmA7Smu2MBHuFgGfZNeLA9aaeUg=s64",
      "userId": "14192496592089419195"
     },
     "user_tz": -330
    },
    "id": "_alIJ6dzMcyA",
    "outputId": "68268968-965a-406b-aca0-c7d03e618522"
   },
   "outputs": [
    {
     "name": "stdout",
     "output_type": "stream",
     "text": [
      "New review = It was a great movie.\n",
      "review = [2, 16, 6, 87, 2]\n",
      "Prediction (0 = Negative, 1 = positive) = [[0.98290735]]\n"
     ]
    }
   ],
   "source": [
    "#review = \"The movie was a great waste of time.\"\n",
    "review = \"It was a great movie.\"\n",
    "print(f'New review = {review}')\n",
    "\n",
    "d = imdb.get_word_index()\n",
    "words = review.split()\n",
    "review = []\n",
    "\n",
    "for word in words:\n",
    "  if word not in d:\n",
    "    review.append(2)\n",
    "  else:\n",
    "    review.append(d[word] + 3)\n",
    "  \n",
    "print(f\"review = {review}\")\n",
    "\n",
    "review = sequence.pad_sequences([review], truncating='pre', padding='pre', maxlen=80)\n",
    "\n",
    "prediction = model.predict(review)\n",
    "print(f'Prediction (0 = Negative, 1 = positive) = {prediction}')"
   ]
  },
  {
   "cell_type": "code",
   "execution_count": 0,
   "metadata": {
    "colab": {},
    "colab_type": "code",
    "id": "8EhqbSuUO7lD"
   },
   "outputs": [],
   "source": []
  }
 ],
 "metadata": {
  "colab": {
   "authorship_tag": "ABX9TyOq3FMnsldT88dAbv1+zrwM",
   "collapsed_sections": [],
   "name": "Sentiment_Analysis_Word2Vec.ipynb",
   "provenance": []
  },
  "kernelspec": {
   "display_name": "Python 3 (ipykernel)",
   "language": "python",
   "name": "python3"
  },
  "language_info": {
   "codemirror_mode": {
    "name": "ipython",
    "version": 3
   },
   "file_extension": ".py",
   "mimetype": "text/x-python",
   "name": "python",
   "nbconvert_exporter": "python",
   "pygments_lexer": "ipython3",
   "version": "3.8.8"
  }
 },
 "nbformat": 4,
 "nbformat_minor": 1
}
